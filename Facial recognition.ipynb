{
 "cells": [
  {
   "cell_type": "markdown",
   "metadata": {
    "id": "qlVncFWwE7u3"
   },
   "source": [
    "# 1. Prepare data"
   ]
  },
  {
   "cell_type": "markdown",
   "metadata": {
    "id": "xDnT1a30-SI5"
   },
   "source": [
    "## 1.1 Import dependencies"
   ]
  },
  {
   "cell_type": "code",
   "execution_count": 1,
   "metadata": {
    "executionInfo": {
     "elapsed": 4446,
     "status": "ok",
     "timestamp": 1664284304170,
     "user": {
      "displayName": "Hoàng Anh Đào",
      "userId": "06015616872620178768"
     },
     "user_tz": 240
    },
    "id": "WUlyU5BT-Tu9"
   },
   "outputs": [],
   "source": [
    "# import libs\n",
    "import cv2\n",
    "import os\n",
    "import random\n",
    "import numpy as np\n",
    "from matplotlib import pyplot as plt\n",
    "\n",
    "# Import tensorflow dependencies - Functional API\n",
    "from tensorflow.keras.models import Model\n",
    "from tensorflow.keras.layers import Layer, Conv2D, Dense, MaxPooling2D, Input, Flatten\n",
    "import tensorflow as tf\n"
   ]
  },
  {
   "cell_type": "code",
   "execution_count": 2,
   "metadata": {
    "executionInfo": {
     "elapsed": 403,
     "status": "ok",
     "timestamp": 1664284304568,
     "user": {
      "displayName": "Hoàng Anh Đào",
      "userId": "06015616872620178768"
     },
     "user_tz": 240
    },
    "id": "ettZUrTd_e3e"
   },
   "outputs": [],
   "source": [
    "gpus = tf.config.experimental.list_physical_devices(\"GPU\")\n",
    "for gpu in gpus:\n",
    "  tf.config.experimental.set_memory_growth(gpu, True)"
   ]
  },
  {
   "cell_type": "markdown",
   "metadata": {
    "id": "vXI0AaDBBnXO"
   },
   "source": [
    "## 1.2 Create folder structures"
   ]
  },
  {
   "cell_type": "code",
   "execution_count": 3,
   "metadata": {
    "executionInfo": {
     "elapsed": 12,
     "status": "ok",
     "timestamp": 1664284304569,
     "user": {
      "displayName": "Hoàng Anh Đào",
      "userId": "06015616872620178768"
     },
     "user_tz": 240
    },
    "id": "DTk70-OVAtOw"
   },
   "outputs": [],
   "source": [
    "# Setup paths\n",
    "POS_PATH = os.path.join('data', 'positive')\n",
    "NEG_PATH = os.path.join(\"data\", 'negative')\n",
    "ANC_PATH = os.path.join('data', 'anchor')"
   ]
  },
  {
   "cell_type": "code",
   "execution_count": 4,
   "metadata": {
    "executionInfo": {
     "elapsed": 10,
     "status": "ok",
     "timestamp": 1664284304569,
     "user": {
      "displayName": "Hoàng Anh Đào",
      "userId": "06015616872620178768"
     },
     "user_tz": 240
    },
    "id": "AS6VOEC0CJU5"
   },
   "outputs": [],
   "source": [
    "# # Make the directories\n",
    "# os.makedirs(POS_PATH)\n",
    "# os.makedirs(NEG_PATH)\n",
    "# os.makedirs(ANC_PATH)"
   ]
  },
  {
   "cell_type": "markdown",
   "metadata": {
    "id": "CeX3yT4MG26d"
   },
   "source": [
    "# 2. Collect Possitives and Anchors"
   ]
  },
  {
   "cell_type": "markdown",
   "metadata": {
    "id": "Ds_2DRUdG9lh"
   },
   "source": [
    "## 2.1 Untar Labelled Faces in the Wild Dataset"
   ]
  },
  {
   "cell_type": "code",
   "execution_count": 5,
   "metadata": {
    "colab": {
     "base_uri": "https://localhost:8080/"
    },
    "executionInfo": {
     "elapsed": 10,
     "status": "ok",
     "timestamp": 1664284304570,
     "user": {
      "displayName": "Hoàng Anh Đào",
      "userId": "06015616872620178768"
     },
     "user_tz": 240
    },
    "id": "1hR_RB42SEUy",
    "outputId": "5329b7d9-a912-47bb-d764-a38ab3dffdba"
   },
   "outputs": [
    {
     "name": "stdout",
     "output_type": "stream",
     "text": [
      "/content/drive/MyDrive/Projects/Facial recognition\n"
     ]
    }
   ],
   "source": [
    "%cd /content/drive/MyDrive/Projects/Facial recognition"
   ]
  },
  {
   "cell_type": "code",
   "execution_count": 6,
   "metadata": {
    "executionInfo": {
     "elapsed": 7,
     "status": "ok",
     "timestamp": 1664284304570,
     "user": {
      "displayName": "Hoàng Anh Đào",
      "userId": "06015616872620178768"
     },
     "user_tz": 240
    },
    "id": "BUx4mnbBEdH2"
   },
   "outputs": [],
   "source": [
    "# !wget http://vis-www.cs.umass.edu/lfw/lfw.tgz --directory ./data"
   ]
  },
  {
   "cell_type": "code",
   "execution_count": 7,
   "metadata": {
    "executionInfo": {
     "elapsed": 6,
     "status": "ok",
     "timestamp": 1664284304570,
     "user": {
      "displayName": "Hoàng Anh Đào",
      "userId": "06015616872620178768"
     },
     "user_tz": 240
    },
    "id": "Ym30R62IYOLE"
   },
   "outputs": [],
   "source": [
    "# !tar -xf ./data/lfw.tgz"
   ]
  },
  {
   "cell_type": "code",
   "execution_count": 8,
   "metadata": {
    "executionInfo": {
     "elapsed": 196,
     "status": "ok",
     "timestamp": 1664284304760,
     "user": {
      "displayName": "Hoàng Anh Đào",
      "userId": "06015616872620178768"
     },
     "user_tz": 240
    },
    "id": "-oLXzvHcYb0D"
   },
   "outputs": [],
   "source": [
    "# %cd data"
   ]
  },
  {
   "cell_type": "code",
   "execution_count": 9,
   "metadata": {
    "executionInfo": {
     "elapsed": 2,
     "status": "ok",
     "timestamp": 1664284304760,
     "user": {
      "displayName": "Hoàng Anh Đào",
      "userId": "06015616872620178768"
     },
     "user_tz": 240
    },
    "id": "YYr5ct_ZY3_R"
   },
   "outputs": [],
   "source": [
    "# for directory in os.listdir('lfw'):\n",
    "#   for file in os.listdir(os.path.join('lfw', directory)):\n",
    "#     EX_PATH = os.path.join('lfw', directory, file)\n",
    "#     NEW_PATH = os.path.join(NEG_PATH, file)\n",
    "#     os.replace(EX_PATH, NEW_PATH)"
   ]
  },
  {
   "cell_type": "markdown",
   "metadata": {
    "id": "XhVULWEYaMGi"
   },
   "source": [
    "## 2.2 Collect Positive and Anchor Classes"
   ]
  },
  {
   "cell_type": "code",
   "execution_count": 10,
   "metadata": {
    "executionInfo": {
     "elapsed": 3358,
     "status": "ok",
     "timestamp": 1664284308117,
     "user": {
      "displayName": "Hoàng Anh Đào",
      "userId": "06015616872620178768"
     },
     "user_tz": 240
    },
    "id": "3C-dLwv1Z8Pd"
   },
   "outputs": [],
   "source": [
    "cap = cv2.VideoCapture(0)\n",
    "\n",
    "while cap.isOpened():\n",
    "    ret, frame = cap.read()\n",
    "    frame = frame[420:670, 970:1220, :]\n",
    "    \n",
    "    #Show image back to screen\n",
    "    \n",
    "    cv2.imshow('Image collection', frame)\n",
    "    if cv2.waitKey(1) & 0XFF == ord('a'):\n",
    "        imagename = os.path.join(ANC_PATH, '{}.jpg'.format(uuid.uuid1()))\n",
    "        # Write out anchor image\n",
    "        cv2.imwrite(imagename, frame)\n",
    "    \n",
    "    # Breaking gracefully\n",
    "    if cv2.waitKey(1) & 0XFF == ord('p'):\n",
    "        imagename = os.path.join(POS_PATH, '{}.jpg'.format(uuid.uuid1()))\n",
    "        cv2.imwrite(imagename, frame)\n",
    "\n",
    "    if cv2.waitKey(1) & 0XFF == ord('q'):\n",
    "        break\n",
    "\n",
    "# Release the webcam\n",
    "cap.release()\n",
    "cv2.destroyAllWindows()"
   ]
  },
  {
   "cell_type": "markdown",
   "metadata": {
    "id": "hDqEJDFt8-kB"
   },
   "source": [
    "# 3. Load and Preprocess Images"
   ]
  },
  {
   "cell_type": "markdown",
   "metadata": {
    "id": "kWzM1AV29VmH"
   },
   "source": [
    "## 3.1 Get Image Directories"
   ]
  },
  {
   "cell_type": "code",
   "execution_count": 11,
   "metadata": {
    "executionInfo": {
     "elapsed": 91758,
     "status": "ok",
     "timestamp": 1664284399982,
     "user": {
      "displayName": "Hoàng Anh Đào",
      "userId": "06015616872620178768"
     },
     "user_tz": 240
    },
    "id": "5RCMg8zM8-Nh"
   },
   "outputs": [],
   "source": [
    "anchor = tf.data.Dataset.list_files(ANC_PATH+'/*.jpg').take(300)\n",
    "positive = tf.data.Dataset.list_files(POS_PATH+'/*.jpg').take(300)\n",
    "negative = tf.data.Dataset.list_files(NEG_PATH+'/*.jpg').take(300)"
   ]
  },
  {
   "cell_type": "code",
   "execution_count": 12,
   "metadata": {
    "executionInfo": {
     "elapsed": 13,
     "status": "ok",
     "timestamp": 1664284399982,
     "user": {
      "displayName": "Hoàng Anh Đào",
      "userId": "06015616872620178768"
     },
     "user_tz": 240
    },
    "id": "aiRDs4UfbhnN"
   },
   "outputs": [],
   "source": [
    "dir_test = anchor.as_numpy_iterator()"
   ]
  },
  {
   "cell_type": "code",
   "execution_count": 13,
   "metadata": {
    "colab": {
     "base_uri": "https://localhost:8080/"
    },
    "executionInfo": {
     "elapsed": 12,
     "status": "ok",
     "timestamp": 1664284399982,
     "user": {
      "displayName": "Hoàng Anh Đào",
      "userId": "06015616872620178768"
     },
     "user_tz": 240
    },
    "id": "kykEoOlA-w5q",
    "outputId": "a3f7c497-f518-4079-9d02-d4cb3183ec36"
   },
   "outputs": [
    {
     "data": {
      "text/plain": [
       "b'data/anchor/b4b6c084-363e-11ed-a66a-060f1abb7208.jpg'"
      ]
     },
     "execution_count": 13,
     "metadata": {},
     "output_type": "execute_result"
    }
   ],
   "source": [
    "dir_test.next()"
   ]
  },
  {
   "cell_type": "markdown",
   "metadata": {
    "id": "hlyJ_S_3_6DX"
   },
   "source": [
    "## 3.2 Preprocessing - Scale and Resize"
   ]
  },
  {
   "cell_type": "code",
   "execution_count": 14,
   "metadata": {
    "executionInfo": {
     "elapsed": 9,
     "status": "ok",
     "timestamp": 1664284399982,
     "user": {
      "displayName": "Hoàng Anh Đào",
      "userId": "06015616872620178768"
     },
     "user_tz": 240
    },
    "id": "M2yg4AuL-yaf"
   },
   "outputs": [],
   "source": [
    "def preprocess(file_path):\n",
    "\n",
    "  # Read in image from file path\n",
    "  byte_img = tf.io.read_file(file_path)\n",
    "  #Load in the image\n",
    "  img = tf.io.decode_jpeg(byte_img)\n",
    "\n",
    "  # Preprocessing steps - resizing the image to be 100x100x3\n",
    "  img = tf.image.resize(img, (100, 100))\n",
    "  img = img / 255.0\n",
    "\n",
    "  return img"
   ]
  },
  {
   "cell_type": "code",
   "execution_count": 15,
   "metadata": {
    "executionInfo": {
     "elapsed": 524,
     "status": "ok",
     "timestamp": 1664284400497,
     "user": {
      "displayName": "Hoàng Anh Đào",
      "userId": "06015616872620178768"
     },
     "user_tz": 240
    },
    "id": "kf0ZFrl4Buc1"
   },
   "outputs": [],
   "source": [
    "img = preprocess('data/anchor/b88996be-363e-11ed-a66a-060f1abb7208.jpg')"
   ]
  },
  {
   "cell_type": "code",
   "execution_count": 16,
   "metadata": {
    "colab": {
     "base_uri": "https://localhost:8080/"
    },
    "executionInfo": {
     "elapsed": 7,
     "status": "ok",
     "timestamp": 1664284400497,
     "user": {
      "displayName": "Hoàng Anh Đào",
      "userId": "06015616872620178768"
     },
     "user_tz": 240
    },
    "id": "aF-q9ZL-C4oc",
    "outputId": "77f5f921-5732-4318-fa20-0e51b6697b64"
   },
   "outputs": [
    {
     "data": {
      "text/plain": [
       "0.6480392"
      ]
     },
     "execution_count": 16,
     "metadata": {},
     "output_type": "execute_result"
    }
   ],
   "source": [
    "img.numpy().max()"
   ]
  },
  {
   "cell_type": "code",
   "execution_count": 17,
   "metadata": {
    "colab": {
     "base_uri": "https://localhost:8080/",
     "height": 286
    },
    "executionInfo": {
     "elapsed": 172,
     "status": "ok",
     "timestamp": 1664284400665,
     "user": {
      "displayName": "Hoàng Anh Đào",
      "userId": "06015616872620178768"
     },
     "user_tz": 240
    },
    "id": "KMTrYjqKByxO",
    "outputId": "9299f05e-a341-4232-bc53-94bc35aaa3fd"
   },
   "outputs": [
    {
     "data": {
      "text/plain": [
       "<matplotlib.image.AxesImage at 0x7ff55a6691d0>"
      ]
     },
     "execution_count": 17,
     "metadata": {},
     "output_type": "execute_result"
    },
    {
     "data": {
      "image/png": "[encoded data removed]",
      "text/plain": [
       "<Figure size 432x288 with 1 Axes>"
      ]
     },
     "metadata": {
      "needs_background": "light"
     },
     "output_type": "display_data"
    }
   ],
   "source": [
    "plt.imshow(img)"
   ]
  },
  {
   "cell_type": "markdown",
   "metadata": {
    "id": "m-czLaeuDAnq"
   },
   "source": [
    "## 3.3 Create Labelled Dataset\n",
    "\n",
    "` (anchor, positive) => 1, 1, 1, 1`\n",
    "\n",
    "` (anchor, negative) => 0, 0, 0, 0`"
   ]
  },
  {
   "cell_type": "code",
   "execution_count": 18,
   "metadata": {
    "colab": {
     "base_uri": "https://localhost:8080/"
    },
    "executionInfo": {
     "elapsed": 282,
     "status": "ok",
     "timestamp": 1664284400943,
     "user": {
      "displayName": "Hoàng Anh Đào",
      "userId": "06015616872620178768"
     },
     "user_tz": 240
    },
    "id": "KytMNhkJGJiD",
    "outputId": "96f71a61-f3d9-449d-ed32-c0ca9853e379"
   },
   "outputs": [
    {
     "data": {
      "text/plain": [
       "<TakeDataset element_spec=TensorSpec(shape=(), dtype=tf.string, name=None)>"
      ]
     },
     "execution_count": 18,
     "metadata": {},
     "output_type": "execute_result"
    }
   ],
   "source": [
    "positive"
   ]
  },
  {
   "cell_type": "code",
   "execution_count": 19,
   "metadata": {
    "colab": {
     "base_uri": "https://localhost:8080/"
    },
    "executionInfo": {
     "elapsed": 3,
     "status": "ok",
     "timestamp": 1664284400943,
     "user": {
      "displayName": "Hoàng Anh Đào",
      "userId": "06015616872620178768"
     },
     "user_tz": 240
    },
    "id": "eoLNRN1TGLpM",
    "outputId": "c2052a1f-565b-4854-ed0a-9a2cad6e5b87"
   },
   "outputs": [
    {
     "data": {
      "text/plain": [
       "<TakeDataset element_spec=TensorSpec(shape=(), dtype=tf.string, name=None)>"
      ]
     },
     "execution_count": 19,
     "metadata": {},
     "output_type": "execute_result"
    }
   ],
   "source": [
    "negative"
   ]
  },
  {
   "cell_type": "code",
   "execution_count": 20,
   "metadata": {
    "executionInfo": {
     "elapsed": 2,
     "status": "ok",
     "timestamp": 1664284400943,
     "user": {
      "displayName": "Hoàng Anh Đào",
      "userId": "06015616872620178768"
     },
     "user_tz": 240
    },
    "id": "bWQX1xl5DZdE"
   },
   "outputs": [],
   "source": [
    "positives = tf.data.Dataset.zip((anchor, positive, tf.data.Dataset.from_tensor_slices(tf.ones(len(anchor)))))\n",
    "negatives = tf.data.Dataset.zip((anchor, negative, tf.data.Dataset.from_tensor_slices(tf.zeros(len(anchor)))))\n",
    "data = positives.concatenate(negatives)"
   ]
  },
  {
   "cell_type": "code",
   "execution_count": 21,
   "metadata": {
    "executionInfo": {
     "elapsed": 2,
     "status": "ok",
     "timestamp": 1664284400943,
     "user": {
      "displayName": "Hoàng Anh Đào",
      "userId": "06015616872620178768"
     },
     "user_tz": 240
    },
    "id": "oE_YuHj_DGFm"
   },
   "outputs": [],
   "source": [
    "samples = data.as_numpy_iterator()"
   ]
  },
  {
   "cell_type": "code",
   "execution_count": 22,
   "metadata": {
    "colab": {
     "base_uri": "https://localhost:8080/"
    },
    "executionInfo": {
     "elapsed": 3,
     "status": "ok",
     "timestamp": 1664284400944,
     "user": {
      "displayName": "Hoàng Anh Đào",
      "userId": "06015616872620178768"
     },
     "user_tz": 240
    },
    "id": "imwXZAWxGZP3",
    "outputId": "4d9069bb-0944-492f-fa2c-0e144cda2024"
   },
   "outputs": [
    {
     "data": {
      "text/plain": [
       "(b'data/anchor/5433c40c-3899-11ed-b257-060f1abb7208.jpg',\n",
       " b'data/positive/5004d4de-3899-11ed-b257-060f1abb7208.jpg',\n",
       " 1.0)"
      ]
     },
     "execution_count": 22,
     "metadata": {},
     "output_type": "execute_result"
    }
   ],
   "source": [
    "example = samples.next()\n",
    "example"
   ]
  },
  {
   "cell_type": "markdown",
   "metadata": {
    "id": "XjWBog40Gqs0"
   },
   "source": [
    "## 3.4 Build train and test partition"
   ]
  },
  {
   "cell_type": "code",
   "execution_count": 23,
   "metadata": {
    "executionInfo": {
     "elapsed": 2,
     "status": "ok",
     "timestamp": 1664284400944,
     "user": {
      "displayName": "Hoàng Anh Đào",
      "userId": "06015616872620178768"
     },
     "user_tz": 240
    },
    "id": "KuL_E2WdGaez"
   },
   "outputs": [],
   "source": [
    "def preprocess_twin(input_img, validation_img, label):\n",
    "  return (preprocess(input_img), preprocess(validation_img), label)"
   ]
  },
  {
   "cell_type": "code",
   "execution_count": 24,
   "metadata": {
    "colab": {
     "base_uri": "https://localhost:8080/"
    },
    "executionInfo": {
     "elapsed": 495,
     "status": "ok",
     "timestamp": 1664284401437,
     "user": {
      "displayName": "Hoàng Anh Đào",
      "userId": "06015616872620178768"
     },
     "user_tz": 240
    },
    "id": "lsQK1qFyHFr3",
    "outputId": "1e36a025-5ed3-478b-a032-415cceb3c6f9"
   },
   "outputs": [
    {
     "data": {
      "text/plain": [
       "(<tf.Tensor: shape=(100, 100, 3), dtype=float32, numpy=\n",
       " array([[[0.39607844, 0.34509805, 0.3137255 ],\n",
       "         [0.39607844, 0.34509805, 0.3127451 ],\n",
       "         [0.39313725, 0.34215686, 0.30686274],\n",
       "         ...,\n",
       "         [0.5264706 , 0.4715686 , 0.36568627],\n",
       "         [0.5264706 , 0.4715686 , 0.36568627],\n",
       "         [0.52843136, 0.4735294 , 0.36764705]],\n",
       " \n",
       "        [[0.39681372, 0.34583333, 0.31446078],\n",
       "         [0.39681372, 0.34583333, 0.3134804 ],\n",
       "         [0.39607844, 0.34509805, 0.30980393],\n",
       "         ...,\n",
       "         [0.5235294 , 0.47058824, 0.36568627],\n",
       "         [0.5203431 , 0.46740195, 0.3625    ],\n",
       "         [0.52254903, 0.46960783, 0.3647059 ]],\n",
       " \n",
       "        [[0.3990196 , 0.3480392 , 0.31666666],\n",
       "         [0.3990196 , 0.3480392 , 0.3156863 ],\n",
       "         [0.39313725, 0.34215686, 0.30686274],\n",
       "         ...,\n",
       "         [0.5137255 , 0.46666667, 0.3647059 ],\n",
       "         [0.5144608 , 0.46740195, 0.36544117],\n",
       "         [0.51666665, 0.46960783, 0.36764705]],\n",
       " \n",
       "        ...,\n",
       " \n",
       "        [[0.5615196 , 0.52230394, 0.48308823],\n",
       "         [0.56960785, 0.52843136, 0.48137254],\n",
       "         [0.57843137, 0.53137255, 0.47843137],\n",
       "         ...,\n",
       "         [0.37745097, 0.34607843, 0.26568627],\n",
       "         [0.38333333, 0.35196078, 0.27009803],\n",
       "         [0.39607844, 0.3529412 , 0.26862746]],\n",
       " \n",
       "        [[0.5644608 , 0.5252451 , 0.48602942],\n",
       "         [0.56960785, 0.52843136, 0.48137254],\n",
       "         [0.57843137, 0.53137255, 0.47843137],\n",
       "         ...,\n",
       "         [0.3745098 , 0.3409314 , 0.27083334],\n",
       "         [0.38357842, 0.35220587, 0.27622548],\n",
       "         [0.39019608, 0.35588235, 0.27450982]],\n",
       " \n",
       "        [[0.5688726 , 0.5296569 , 0.49044117],\n",
       "         [0.5647059 , 0.5235294 , 0.4764706 ],\n",
       "         [0.5833333 , 0.5362745 , 0.48333332],\n",
       "         ...,\n",
       "         [0.36862746, 0.33333334, 0.26666668],\n",
       "         [0.37156862, 0.3392157 , 0.26666668],\n",
       "         [0.38431373, 0.3529412 , 0.2784314 ]]], dtype=float32)>,\n",
       " <tf.Tensor: shape=(100, 100, 3), dtype=float32, numpy=\n",
       " array([[[0.58431375, 0.5254902 , 0.44313726],\n",
       "         [0.58455884, 0.5257353 , 0.44338235],\n",
       "         [0.5882353 , 0.5294118 , 0.44705883],\n",
       "         ...,\n",
       "         [0.502451  , 0.44191176, 0.35980392],\n",
       "         [0.5144608 , 0.45171568, 0.360049  ],\n",
       "         [0.50392157, 0.44117647, 0.34313726]],\n",
       " \n",
       "        [[0.5860294 , 0.5272059 , 0.44289216],\n",
       "         [0.58455884, 0.5257353 , 0.44142157],\n",
       "         [0.5889706 , 0.5301471 , 0.44583333],\n",
       "         ...,\n",
       "         [0.47205883, 0.42107844, 0.34779412],\n",
       "         [0.4968137 , 0.43406862, 0.35441175],\n",
       "         [0.49607843, 0.4343137 , 0.34411764]],\n",
       " \n",
       "        [[0.5852941 , 0.5264706 , 0.4362745 ],\n",
       "         [0.5882353 , 0.5294118 , 0.4392157 ],\n",
       "         [0.5921569 , 0.53333336, 0.44313726],\n",
       "         ...,\n",
       "         [0.39044118, 0.3497549 , 0.28480393],\n",
       "         [0.47034314, 0.41936275, 0.35049018],\n",
       "         [0.4872549 , 0.42843136, 0.35196078]],\n",
       " \n",
       "        ...,\n",
       " \n",
       "        [[0.59313726, 0.5362745 , 0.4617647 ],\n",
       "         [0.59411764, 0.5372549 , 0.4612745 ],\n",
       "         [0.5980392 , 0.5411765 , 0.46078432],\n",
       "         ...,\n",
       "         [0.36838236, 0.3154412 , 0.264951  ],\n",
       "         [0.37132353, 0.32058823, 0.2620098 ],\n",
       "         [0.37156862, 0.32156864, 0.25882354]],\n",
       " \n",
       "        [[0.59117645, 0.54019606, 0.46568626],\n",
       "         [0.59583336, 0.5448529 , 0.47034314],\n",
       "         [0.6012255 , 0.5502451 , 0.4757353 ],\n",
       "         ...,\n",
       "         [0.36102942, 0.3139706 , 0.264951  ],\n",
       "         [0.3625    , 0.3154412 , 0.2605392 ],\n",
       "         [0.3647059 , 0.31764707, 0.26078433]],\n",
       " \n",
       "        [[0.59607846, 0.54509807, 0.47843137],\n",
       "         [0.6002451 , 0.5492647 , 0.4747549 ],\n",
       "         [0.6117647 , 0.56078434, 0.4862745 ],\n",
       "         ...,\n",
       "         [0.35612744, 0.30906862, 0.2620098 ],\n",
       "         [0.35980392, 0.3127451 , 0.25980392],\n",
       "         [0.35882354, 0.31176472, 0.25686276]]], dtype=float32)>,\n",
       " 1.0)"
      ]
     },
     "execution_count": 24,
     "metadata": {},
     "output_type": "execute_result"
    }
   ],
   "source": [
    "res = preprocess_twin(*example)\n",
    "res"
   ]
  },
  {
   "cell_type": "code",
   "execution_count": 25,
   "metadata": {
    "colab": {
     "base_uri": "https://localhost:8080/",
     "height": 286
    },
    "executionInfo": {
     "elapsed": 168,
     "status": "ok",
     "timestamp": 1664284401601,
     "user": {
      "displayName": "Hoàng Anh Đào",
      "userId": "06015616872620178768"
     },
     "user_tz": 240
    },
    "id": "ir1C6j8jHaus",
    "outputId": "99721138-1e39-47c6-a1d7-d832264286ba"
   },
   "outputs": [
    {
     "data": {
      "text/plain": [
       "<matplotlib.image.AxesImage at 0x7ff55a16e350>"
      ]
     },
     "execution_count": 25,
     "metadata": {},
     "output_type": "execute_result"
    },
    {
     "data": {
      "image/png": "[encoded data removed]",
      "text/plain": [
       "<Figure size 432x288 with 1 Axes>"
      ]
     },
     "metadata": {
      "needs_background": "light"
     },
     "output_type": "display_data"
    }
   ],
   "source": [
    "plt.imshow(res[1])"
   ]
  },
  {
   "cell_type": "code",
   "execution_count": 26,
   "metadata": {
    "colab": {
     "base_uri": "https://localhost:8080/"
    },
    "executionInfo": {
     "elapsed": 8,
     "status": "ok",
     "timestamp": 1664284401602,
     "user": {
      "displayName": "Hoàng Anh Đào",
      "userId": "06015616872620178768"
     },
     "user_tz": 240
    },
    "id": "J-XLivUaH01f",
    "outputId": "9fccf0a8-7334-432c-d5c0-08188273412c"
   },
   "outputs": [
    {
     "data": {
      "text/plain": [
       "1.0"
      ]
     },
     "execution_count": 26,
     "metadata": {},
     "output_type": "execute_result"
    }
   ],
   "source": [
    "res[2]"
   ]
  },
  {
   "cell_type": "code",
   "execution_count": 27,
   "metadata": {
    "executionInfo": {
     "elapsed": 4,
     "status": "ok",
     "timestamp": 1664284401602,
     "user": {
      "displayName": "Hoàng Anh Đào",
      "userId": "06015616872620178768"
     },
     "user_tz": 240
    },
    "id": "n3K_lHQxIEN-"
   },
   "outputs": [],
   "source": [
    "# Build dataloader pipeline\n",
    "data = data.map(preprocess_twin)\n",
    "data = data.cache()\n",
    "data = data.shuffle(buffer_size=1024)"
   ]
  },
  {
   "cell_type": "code",
   "execution_count": 28,
   "metadata": {
    "colab": {
     "base_uri": "https://localhost:8080/"
    },
    "executionInfo": {
     "elapsed": 1,
     "status": "ok",
     "timestamp": 1664284401695,
     "user": {
      "displayName": "Hoàng Anh Đào",
      "userId": "06015616872620178768"
     },
     "user_tz": 240
    },
    "id": "1XV40La6I1eb",
    "outputId": "fb3300a6-df9d-47d7-cd44-76f0fbcda725"
   },
   "outputs": [
    {
     "data": {
      "text/plain": [
       "<ShuffleDataset element_spec=(TensorSpec(shape=(100, 100, None), dtype=tf.float32, name=None), TensorSpec(shape=(100, 100, None), dtype=tf.float32, name=None), TensorSpec(shape=(), dtype=tf.float32, name=None))>"
      ]
     },
     "execution_count": 28,
     "metadata": {},
     "output_type": "execute_result"
    }
   ],
   "source": [
    "data"
   ]
  },
  {
   "cell_type": "code",
   "execution_count": 29,
   "metadata": {
    "executionInfo": {
     "elapsed": 89767,
     "status": "ok",
     "timestamp": 1664284491461,
     "user": {
      "displayName": "Hoàng Anh Đào",
      "userId": "06015616872620178768"
     },
     "user_tz": 240
    },
    "id": "HkdyQYlBIyE0"
   },
   "outputs": [],
   "source": [
    "samples = data.as_numpy_iterator()\n",
    "samp = samples.next()"
   ]
  },
  {
   "cell_type": "code",
   "execution_count": 30,
   "metadata": {
    "colab": {
     "base_uri": "https://localhost:8080/",
     "height": 286
    },
    "executionInfo": {
     "elapsed": 204,
     "status": "ok",
     "timestamp": 1664284491644,
     "user": {
      "displayName": "Hoàng Anh Đào",
      "userId": "06015616872620178768"
     },
     "user_tz": 240
    },
    "id": "cwO-dFCvI-6Z",
    "outputId": "98ff1bb9-9427-49b6-f11d-9b5bc4ef76f1"
   },
   "outputs": [
    {
     "data": {
      "text/plain": [
       "<matplotlib.image.AxesImage at 0x7ff55a0ecd90>"
      ]
     },
     "execution_count": 30,
     "metadata": {},
     "output_type": "execute_result"
    },
    {
     "data": {
      "image/png": "[encoded data removed]",
      "text/plain": [
       "<Figure size 432x288 with 1 Axes>"
      ]
     },
     "metadata": {
      "needs_background": "light"
     },
     "output_type": "display_data"
    }
   ],
   "source": [
    "plt.imshow(samp[1])"
   ]
  },
  {
   "cell_type": "code",
   "execution_count": 31,
   "metadata": {
    "colab": {
     "base_uri": "https://localhost:8080/",
     "height": 286
    },
    "executionInfo": {
     "elapsed": 137,
     "status": "ok",
     "timestamp": 1664284491774,
     "user": {
      "displayName": "Hoàng Anh Đào",
      "userId": "06015616872620178768"
     },
     "user_tz": 240
    },
    "id": "59AsKlrYJmFA",
    "outputId": "7e66a35b-8203-4311-cfde-0f2601a56a17"
   },
   "outputs": [
    {
     "data": {
      "text/plain": [
       "<matplotlib.image.AxesImage at 0x7ff53f3b09d0>"
      ]
     },
     "execution_count": 31,
     "metadata": {},
     "output_type": "execute_result"
    },
    {
     "data": {
      "image/png": "[encoded data removed]",
      "text/plain": [
       "<Figure size 432x288 with 1 Axes>"
      ]
     },
     "metadata": {
      "needs_background": "light"
     },
     "output_type": "display_data"
    }
   ],
   "source": [
    "plt.imshow(samp[0])"
   ]
  },
  {
   "cell_type": "code",
   "execution_count": 32,
   "metadata": {
    "executionInfo": {
     "elapsed": 3,
     "status": "ok",
     "timestamp": 1664284491775,
     "user": {
      "displayName": "Hoàng Anh Đào",
      "userId": "06015616872620178768"
     },
     "user_tz": 240
    },
    "id": "lc3LmTR6Ju95"
   },
   "outputs": [],
   "source": [
    "# Train test split\n",
    "\n",
    "##### Train. ####\n",
    "train_data = data.take(round(len(data) * .7))\n",
    "train_data = train_data.batch(16)\n",
    "train_data = train_data.prefetch(8)"
   ]
  },
  {
   "cell_type": "code",
   "execution_count": 33,
   "metadata": {
    "colab": {
     "base_uri": "https://localhost:8080/"
    },
    "executionInfo": {
     "elapsed": 5,
     "status": "ok",
     "timestamp": 1664284491900,
     "user": {
      "displayName": "Hoàng Anh Đào",
      "userId": "06015616872620178768"
     },
     "user_tz": 240
    },
    "id": "JoFrn96AOWWi",
    "outputId": "260a92ac-4b9a-4042-bf35-86227498d263"
   },
   "outputs": [
    {
     "data": {
      "text/plain": [
       "<PrefetchDataset element_spec=(TensorSpec(shape=(None, 100, 100, None), dtype=tf.float32, name=None), TensorSpec(shape=(None, 100, 100, None), dtype=tf.float32, name=None), TensorSpec(shape=(None,), dtype=tf.float32, name=None))>"
      ]
     },
     "execution_count": 33,
     "metadata": {},
     "output_type": "execute_result"
    }
   ],
   "source": [
    "train_data"
   ]
  },
  {
   "cell_type": "code",
   "execution_count": 34,
   "metadata": {
    "executionInfo": {
     "elapsed": 4,
     "status": "ok",
     "timestamp": 1664284491900,
     "user": {
      "displayName": "Hoàng Anh Đào",
      "userId": "06015616872620178768"
     },
     "user_tz": 240
    },
    "id": "DVxUBqq7OXCd"
   },
   "outputs": [],
   "source": [
    "train_samples = train_data.as_numpy_iterator()\n",
    "train_sample = train_samples.next()"
   ]
  },
  {
   "cell_type": "code",
   "execution_count": 35,
   "metadata": {
    "colab": {
     "base_uri": "https://localhost:8080/"
    },
    "executionInfo": {
     "elapsed": 4,
     "status": "ok",
     "timestamp": 1664284491900,
     "user": {
      "displayName": "Hoàng Anh Đào",
      "userId": "06015616872620178768"
     },
     "user_tz": 240
    },
    "id": "HPWk9C50Oq85",
    "outputId": "76dd22c2-0ee6-4d60-f43a-9061c86a06e3"
   },
   "outputs": [
    {
     "data": {
      "text/plain": [
       "16"
      ]
     },
     "execution_count": 35,
     "metadata": {},
     "output_type": "execute_result"
    }
   ],
   "source": [
    "len(train_sample[0])"
   ]
  },
  {
   "cell_type": "code",
   "execution_count": 36,
   "metadata": {
    "executionInfo": {
     "elapsed": 3,
     "status": "ok",
     "timestamp": 1664284491901,
     "user": {
      "displayName": "Hoàng Anh Đào",
      "userId": "06015616872620178768"
     },
     "user_tz": 240
    },
    "id": "3ZuKFuo0Ov7W"
   },
   "outputs": [],
   "source": [
    "#### Test #######\n",
    "test_data = data.skip(round(len(data)*.7))\n",
    "test_data = test_data.take(round(len(data)*.3))\n",
    "test_data = test_data.batch(16)\n",
    "test_data = test_data.prefetch(8)"
   ]
  },
  {
   "cell_type": "code",
   "execution_count": 37,
   "metadata": {
    "colab": {
     "base_uri": "https://localhost:8080/"
    },
    "executionInfo": {
     "elapsed": 3,
     "status": "ok",
     "timestamp": 1664284491901,
     "user": {
      "displayName": "Hoàng Anh Đào",
      "userId": "06015616872620178768"
     },
     "user_tz": 240
    },
    "id": "f0v0MpI8PBC-",
    "outputId": "e87a814b-4895-4834-f9f3-356a22b975af"
   },
   "outputs": [
    {
     "data": {
      "text/plain": [
       "<PrefetchDataset element_spec=(TensorSpec(shape=(None, 100, 100, None), dtype=tf.float32, name=None), TensorSpec(shape=(None, 100, 100, None), dtype=tf.float32, name=None), TensorSpec(shape=(None,), dtype=tf.float32, name=None))>"
      ]
     },
     "execution_count": 37,
     "metadata": {},
     "output_type": "execute_result"
    }
   ],
   "source": [
    "test_data"
   ]
  },
  {
   "cell_type": "markdown",
   "metadata": {
    "id": "7N_oV8wxaK9B"
   },
   "source": [
    "# 4. Model Engineering"
   ]
  },
  {
   "cell_type": "markdown",
   "metadata": {
    "id": "J8SUKi8taNx4"
   },
   "source": [
    "## 4.1 Build Embedding layer"
   ]
  },
  {
   "cell_type": "code",
   "execution_count": 38,
   "metadata": {
    "executionInfo": {
     "elapsed": 2,
     "status": "ok",
     "timestamp": 1664284491901,
     "user": {
      "displayName": "Hoàng Anh Đào",
      "userId": "06015616872620178768"
     },
     "user_tz": 240
    },
    "id": "VxGfOaPdaMj5"
   },
   "outputs": [],
   "source": [
    "def make_embedding():\n",
    "  inp = Input(shape = (100, 100, 3), name = 'input_image')\n",
    "\n",
    "  # First block\n",
    "  c1 = Conv2D(64, (10, 10), activation = 'relu')(inp)\n",
    "  m1 = MaxPooling2D((2, 2))(c1)\n",
    "\n",
    "  #Second block\n",
    "  c2 = Conv2D(128, (7, 7), activation = 'relu')(m1)\n",
    "  m2 = MaxPooling2D(64, (2, 2), padding = 'same')(c2)\n",
    "\n",
    "  #Third block\n",
    "  c3 = Conv2D(128, (4, 4), activation = 'relu')(m2)\n",
    "  m3 = MaxPooling2D(64, (2, 2), padding = 'same')(c3)\n",
    "\n",
    "  # Final embedding block\n",
    "  c4 = Conv2D(256, (4, 4), activation = 'relu')(m3)\n",
    "  f1 = Flatten()(c4)\n",
    "  d1 = Dense(4096, activation = 'sigmoid')(f1)\n",
    "\n",
    "  return Model(inputs = [inp], outputs = [d1], name = 'embedding')"
   ]
  },
  {
   "cell_type": "code",
   "execution_count": 39,
   "metadata": {
    "colab": {
     "base_uri": "https://localhost:8080/"
    },
    "executionInfo": {
     "elapsed": 445,
     "status": "ok",
     "timestamp": 1664284492344,
     "user": {
      "displayName": "Hoàng Anh Đào",
      "userId": "06015616872620178768"
     },
     "user_tz": 240
    },
    "id": "0mkNLPBwd4Dy",
    "outputId": "4c43b732-e613-43e0-e96d-c722526315de"
   },
   "outputs": [
    {
     "name": "stdout",
     "output_type": "stream",
     "text": [
      "Model: \"embedding\"\n",
      "_________________________________________________________________\n",
      " Layer (type)                Output Shape              Param #   \n",
      "=================================================================\n",
      " input_image (InputLayer)    [(None, 100, 100, 3)]     0         \n",
      "                                                                 \n",
      " conv2d (Conv2D)             (None, 91, 91, 64)        19264     \n",
      "                                                                 \n",
      " max_pooling2d (MaxPooling2D  (None, 45, 45, 64)       0         \n",
      " )                                                               \n",
      "                                                                 \n",
      " conv2d_1 (Conv2D)           (None, 39, 39, 128)       401536    \n",
      "                                                                 \n",
      " max_pooling2d_1 (MaxPooling  (None, 20, 20, 128)      0         \n",
      " 2D)                                                             \n",
      "                                                                 \n",
      " conv2d_2 (Conv2D)           (None, 17, 17, 128)       262272    \n",
      "                                                                 \n",
      " max_pooling2d_2 (MaxPooling  (None, 9, 9, 128)        0         \n",
      " 2D)                                                             \n",
      "                                                                 \n",
      " conv2d_3 (Conv2D)           (None, 6, 6, 256)         524544    \n",
      "                                                                 \n",
      " flatten (Flatten)           (None, 9216)              0         \n",
      "                                                                 \n",
      " dense (Dense)               (None, 4096)              37752832  \n",
      "                                                                 \n",
      "=================================================================\n",
      "Total params: 38,960,448\n",
      "Trainable params: 38,960,448\n",
      "Non-trainable params: 0\n",
      "_________________________________________________________________\n"
     ]
    }
   ],
   "source": [
    "model = make_embedding()\n",
    "model.summary()"
   ]
  },
  {
   "cell_type": "markdown",
   "metadata": {
    "id": "kWKnuvY-eNGv"
   },
   "source": [
    "## 4.2 Build distance layer"
   ]
  },
  {
   "cell_type": "code",
   "execution_count": 40,
   "metadata": {
    "executionInfo": {
     "elapsed": 5,
     "status": "ok",
     "timestamp": 1664284492345,
     "user": {
      "displayName": "Hoàng Anh Đào",
      "userId": "06015616872620178768"
     },
     "user_tz": 240
    },
    "id": "UKWzWtLyd74t"
   },
   "outputs": [],
   "source": [
    "# Siamese L1 Distance class\n",
    "class L1Dist(Layer):\n",
    "  # Init method - inheritance\n",
    "  def __init__(self, **kwargs):\n",
    "    super().__init__()\n",
    "\n",
    "  def call(self, input_embedding, validation_embedding):\n",
    "    return tf.math.abs(input_embedding - validation_embedding)"
   ]
  },
  {
   "cell_type": "code",
   "execution_count": 41,
   "metadata": {
    "executionInfo": {
     "elapsed": 4,
     "status": "ok",
     "timestamp": 1664284492345,
     "user": {
      "displayName": "Hoàng Anh Đào",
      "userId": "06015616872620178768"
     },
     "user_tz": 240
    },
    "id": "lkyc3OizfSGp"
   },
   "outputs": [],
   "source": [
    "l1 = L1Dist()"
   ]
  },
  {
   "cell_type": "markdown",
   "metadata": {
    "id": "MiAKPMBBh5RM"
   },
   "source": [
    "## 4.3 Make Siamese Model"
   ]
  },
  {
   "cell_type": "code",
   "execution_count": 42,
   "metadata": {
    "executionInfo": {
     "elapsed": 323,
     "status": "ok",
     "timestamp": 1664284492664,
     "user": {
      "displayName": "Hoàng Anh Đào",
      "userId": "06015616872620178768"
     },
     "user_tz": 240
    },
    "id": "ognrczAqnZq7"
   },
   "outputs": [],
   "source": [
    "embedding = make_embedding()"
   ]
  },
  {
   "cell_type": "code",
   "execution_count": 43,
   "metadata": {
    "executionInfo": {
     "elapsed": 8,
     "status": "ok",
     "timestamp": 1664284492664,
     "user": {
      "displayName": "Hoàng Anh Đào",
      "userId": "06015616872620178768"
     },
     "user_tz": 240
    },
    "id": "d0_JiEiMfiuZ"
   },
   "outputs": [],
   "source": [
    "def make_siamese_model():\n",
    "\n",
    "  # Anchor image input in the network\n",
    "  input_image = Input(name = 'input_img', shape = (100, 100, 3))\n",
    "\n",
    "  # Validation image in the network\n",
    "  validation_image = Input(name = 'validation_img', shape = (100, 100, 3))\n",
    "\n",
    "  # Combine simasese distance components\n",
    "  siamese_layer = L1Dist()\n",
    "  siamese_layer._name = 'distance'\n",
    "  distances = siamese_layer(embedding(input_image), embedding(validation_image))\n",
    "\n",
    "  # Classification layer\n",
    "  classifier = Dense(1, activation = 'sigmoid')(distances)\n",
    "\n",
    "  return Model(inputs = [input_image, validation_image], outputs = classifier, name = \"SiameseNetwork\")"
   ]
  },
  {
   "cell_type": "code",
   "execution_count": 44,
   "metadata": {
    "colab": {
     "base_uri": "https://localhost:8080/"
    },
    "executionInfo": {
     "elapsed": 110,
     "status": "ok",
     "timestamp": 1664284492767,
     "user": {
      "displayName": "Hoàng Anh Đào",
      "userId": "06015616872620178768"
     },
     "user_tz": 240
    },
    "id": "pDt4hck-o5CR",
    "outputId": "5c3f2c54-368e-470d-e9b6-ce913cba626a"
   },
   "outputs": [
    {
     "name": "stdout",
     "output_type": "stream",
     "text": [
      "Model: \"SiameseNetwork\"\n",
      "__________________________________________________________________________________________________\n",
      " Layer (type)                   Output Shape         Param #     Connected to                     \n",
      "==================================================================================================\n",
      " input_img (InputLayer)         [(None, 100, 100, 3  0           []                               \n",
      "                                )]                                                                \n",
      "                                                                                                  \n",
      " validation_img (InputLayer)    [(None, 100, 100, 3  0           []                               \n",
      "                                )]                                                                \n",
      "                                                                                                  \n",
      " embedding (Functional)         (None, 4096)         38960448    ['input_img[0][0]',              \n",
      "                                                                  'validation_img[0][0]']         \n",
      "                                                                                                  \n",
      " distance (L1Dist)              (None, 4096)         0           ['embedding[0][0]',              \n",
      "                                                                  'embedding[1][0]']              \n",
      "                                                                                                  \n",
      " dense_2 (Dense)                (None, 1)            4097        ['distance[0][0]']               \n",
      "                                                                                                  \n",
      "==================================================================================================\n",
      "Total params: 38,964,545\n",
      "Trainable params: 38,964,545\n",
      "Non-trainable params: 0\n",
      "__________________________________________________________________________________________________\n"
     ]
    }
   ],
   "source": [
    "siamese_model = make_siamese_model()\n",
    "siamese_model.summary()"
   ]
  },
  {
   "cell_type": "markdown",
   "metadata": {
    "id": "_5xWnpFTpjYH"
   },
   "source": [
    "# 5. Training"
   ]
  },
  {
   "cell_type": "markdown",
   "metadata": {
    "id": "XNK980ZOplbW"
   },
   "source": [
    "## 5.1 Setup Loss and Optimizer"
   ]
  },
  {
   "cell_type": "code",
   "execution_count": 45,
   "metadata": {
    "executionInfo": {
     "elapsed": 8,
     "status": "ok",
     "timestamp": 1664284492768,
     "user": {
      "displayName": "Hoàng Anh Đào",
      "userId": "06015616872620178768"
     },
     "user_tz": 240
    },
    "id": "ag6fRpTypAKx"
   },
   "outputs": [],
   "source": [
    "binary_cross_loss = tf.losses.BinaryCrossentropy()"
   ]
  },
  {
   "cell_type": "code",
   "execution_count": 46,
   "metadata": {
    "executionInfo": {
     "elapsed": 7,
     "status": "ok",
     "timestamp": 1664284492768,
     "user": {
      "displayName": "Hoàng Anh Đào",
      "userId": "06015616872620178768"
     },
     "user_tz": 240
    },
    "id": "Olrq7VXMqJRj"
   },
   "outputs": [],
   "source": [
    "opt = tf.keras.optimizers.Adam(1e-4)"
   ]
  },
  {
   "cell_type": "markdown",
   "metadata": {
    "id": "EJbSHXcDqVoc"
   },
   "source": [
    "## 5.2 Establish Checkpoints"
   ]
  },
  {
   "cell_type": "code",
   "execution_count": 47,
   "metadata": {
    "executionInfo": {
     "elapsed": 7,
     "status": "ok",
     "timestamp": 1664284492768,
     "user": {
      "displayName": "Hoàng Anh Đào",
      "userId": "06015616872620178768"
     },
     "user_tz": 240
    },
    "id": "62F5znsnqX5N"
   },
   "outputs": [],
   "source": [
    "checkpoint_dir = \"./training_checkpoints\"\n",
    "checkpoint_prefix = os.path.join(checkpoint_dir, 'ckpt')\n",
    "checkpoint = tf.train.Checkpoint(opt = opt, siamese_model = siamese_model)"
   ]
  },
  {
   "cell_type": "code",
   "execution_count": 48,
   "metadata": {
    "executionInfo": {
     "elapsed": 7,
     "status": "ok",
     "timestamp": 1664284492768,
     "user": {
      "displayName": "Hoàng Anh Đào",
      "userId": "06015616872620178768"
     },
     "user_tz": 240
    },
    "id": "T7uN8M8ln9mI"
   },
   "outputs": [],
   "source": [
    "# os.mkdir(checkpoint_dir)"
   ]
  },
  {
   "cell_type": "markdown",
   "metadata": {
    "id": "e3OJM67xqsTQ"
   },
   "source": [
    "## 5.3 Build Train Step Function"
   ]
  },
  {
   "cell_type": "code",
   "execution_count": 49,
   "metadata": {
    "executionInfo": {
     "elapsed": 7,
     "status": "ok",
     "timestamp": 1664284492768,
     "user": {
      "displayName": "Hoàng Anh Đào",
      "userId": "06015616872620178768"
     },
     "user_tz": 240
    },
    "id": "OecRq7DxsaOa"
   },
   "outputs": [],
   "source": [
    "test_batch = train_data.as_numpy_iterator()\n",
    "batch_1 = test_batch.next()"
   ]
  },
  {
   "cell_type": "code",
   "execution_count": 50,
   "metadata": {
    "colab": {
     "base_uri": "https://localhost:8080/"
    },
    "executionInfo": {
     "elapsed": 7,
     "status": "ok",
     "timestamp": 1664284492768,
     "user": {
      "displayName": "Hoàng Anh Đào",
      "userId": "06015616872620178768"
     },
     "user_tz": 240
    },
    "id": "KEBX6wcasrXh",
    "outputId": "89ac0422-9ed8-469d-8a28-7be72b4f79dd"
   },
   "outputs": [
    {
     "data": {
      "text/plain": [
       "array([[[[0.6627451 , 0.59607846, 0.53333336],\n",
       "         [0.66740197, 0.59289217, 0.5262255 ],\n",
       "         [0.6698529 , 0.5982843 , 0.5227941 ],\n",
       "         ...,\n",
       "         [0.5257353 , 0.45906863, 0.3884804 ],\n",
       "         [0.5264706 , 0.4598039 , 0.38921568],\n",
       "         [0.5254902 , 0.45882353, 0.39607844]],\n",
       "\n",
       "        [[0.66568625, 0.5990196 , 0.5362745 ],\n",
       "         [0.67156863, 0.59705883, 0.53039217],\n",
       "         [0.6745098 , 0.60294116, 0.527451  ],\n",
       "         ...,\n",
       "         [0.5252451 , 0.45857844, 0.3879902 ],\n",
       "         [0.5245098 , 0.45784312, 0.3872549 ],\n",
       "         [0.52254903, 0.45588234, 0.3852941 ]],\n",
       "\n",
       "        [[0.66887254, 0.6022059 , 0.5394608 ],\n",
       "         [0.6737745 , 0.5992647 , 0.532598  ],\n",
       "         [0.6737745 , 0.6022059 , 0.5267157 ],\n",
       "         ...,\n",
       "         [0.52230394, 0.45563725, 0.38504902],\n",
       "         [0.5252451 , 0.45857844, 0.3879902 ],\n",
       "         [0.52843136, 0.4617647 , 0.39117646]],\n",
       "\n",
       "        ...,\n",
       "\n",
       "        [[0.54044116, 0.47377452, 0.4110294 ],\n",
       "         [0.5382353 , 0.4715686 , 0.40882352],\n",
       "         [0.5411765 , 0.4745098 , 0.4117647 ],\n",
       "         ...,\n",
       "         [0.4610294 , 0.39828432, 0.3362745 ],\n",
       "         [0.4598039 , 0.3970588 , 0.33431372],\n",
       "         [0.4598039 , 0.3970588 , 0.33431372]],\n",
       "\n",
       "        [[0.5411765 , 0.4745098 , 0.4117647 ],\n",
       "         [0.5411765 , 0.4745098 , 0.4117647 ],\n",
       "         [0.5411765 , 0.4745098 , 0.4117647 ],\n",
       "         ...,\n",
       "         [0.45294118, 0.39019608, 0.33112746],\n",
       "         [0.45588234, 0.39313725, 0.33333334],\n",
       "         [0.45294118, 0.39019608, 0.33039215]],\n",
       "\n",
       "        [[0.54019606, 0.4735294 , 0.4107843 ],\n",
       "         [0.5362745 , 0.46960783, 0.40686274],\n",
       "         [0.5379902 , 0.47132352, 0.40857843],\n",
       "         ...,\n",
       "         [0.44215685, 0.37941176, 0.32647058],\n",
       "         [0.4480392 , 0.3852941 , 0.32647058],\n",
       "         [0.4480392 , 0.3852941 , 0.32647058]]],\n",
       "\n",
       "\n",
       "       [[[0.6666667 , 0.5803922 , 0.49803922],\n",
       "         [0.6647059 , 0.5852941 , 0.5019608 ],\n",
       "         [0.65294117, 0.5882353 , 0.4990196 ],\n",
       "         ...,\n",
       "         [0.5379902 , 0.46740195, 0.38897058],\n",
       "         [0.53333336, 0.4627451 , 0.38431373],\n",
       "         [0.53333336, 0.4627451 , 0.38431373]],\n",
       "\n",
       "        [[0.6617647 , 0.57941175, 0.4970588 ],\n",
       "         [0.6607843 , 0.58137256, 0.49803922],\n",
       "         [0.6519608 , 0.5872549 , 0.49803922],\n",
       "         ...,\n",
       "         [0.5352941 , 0.46568626, 0.3872549 ],\n",
       "         [0.53161764, 0.46200982, 0.38357842],\n",
       "         [0.5323529 , 0.46372548, 0.38235295]],\n",
       "\n",
       "        [[0.65882355, 0.5764706 , 0.49411765],\n",
       "         [0.65343136, 0.5806373 , 0.49509802],\n",
       "         [0.6519608 , 0.5872549 , 0.49803922],\n",
       "         ...,\n",
       "         [0.5330882 , 0.46348038, 0.38357842],\n",
       "         [0.5294118 , 0.4642157 , 0.37769607],\n",
       "         [0.5294118 , 0.46666667, 0.3764706 ]],\n",
       "\n",
       "        ...,\n",
       "\n",
       "        [[0.5254902 , 0.4627451 , 0.4117647 ],\n",
       "         [0.52843136, 0.46568626, 0.41470587],\n",
       "         [0.5254902 , 0.4627451 , 0.4117647 ],\n",
       "         ...,\n",
       "         [0.4598039 , 0.40098038, 0.32647058],\n",
       "         [0.4627451 , 0.40392157, 0.32941177],\n",
       "         [0.46666667, 0.40784314, 0.33333334]],\n",
       "\n",
       "        [[0.5254902 , 0.4627451 , 0.4117647 ],\n",
       "         [0.52843136, 0.46568626, 0.41470587],\n",
       "         [0.5254902 , 0.4627451 , 0.4117647 ],\n",
       "         ...,\n",
       "         [0.45367646, 0.3985294 , 0.33063725],\n",
       "         [0.45882353, 0.3970588 , 0.33137256],\n",
       "         [0.46078432, 0.3990196 , 0.33333334]],\n",
       "\n",
       "        [[0.5254902 , 0.4627451 , 0.4117647 ],\n",
       "         [0.5254902 , 0.4627451 , 0.4117647 ],\n",
       "         [0.5247549 , 0.46200982, 0.4110294 ],\n",
       "         ...,\n",
       "         [0.44313726, 0.38921568, 0.327451  ],\n",
       "         [0.44681373, 0.38406864, 0.32230392],\n",
       "         [0.45294118, 0.39019608, 0.327451  ]]],\n",
       "\n",
       "\n",
       "       [[[0.5803922 , 0.5176471 , 0.41960785],\n",
       "         [0.58137256, 0.51862746, 0.42058823],\n",
       "         [0.5803922 , 0.5176471 , 0.4254902 ],\n",
       "         ...,\n",
       "         [0.5058824 , 0.4392157 , 0.3372549 ],\n",
       "         [0.50661767, 0.4370098 , 0.3409314 ],\n",
       "         [0.5107843 , 0.44019607, 0.34607843]],\n",
       "\n",
       "        [[0.5803922 , 0.5176471 , 0.42156863],\n",
       "         [0.5803922 , 0.5176471 , 0.42156863],\n",
       "         [0.58112746, 0.5183824 , 0.42671567],\n",
       "         ...,\n",
       "         [0.5058824 , 0.43823528, 0.3382353 ],\n",
       "         [0.50661767, 0.43676472, 0.34117648],\n",
       "         [0.5127451 , 0.44215685, 0.3480392 ]],\n",
       "\n",
       "        [[0.5833333 , 0.5205882 , 0.43039215],\n",
       "         [0.58112746, 0.5183824 , 0.42818627],\n",
       "         [0.58431375, 0.52156866, 0.43137255],\n",
       "         ...,\n",
       "         [0.5058824 , 0.43529412, 0.34117648],\n",
       "         [0.50661767, 0.4360294 , 0.34191176],\n",
       "         [0.5095588 , 0.4389706 , 0.34485295]],\n",
       "\n",
       "        ...,\n",
       "\n",
       "        [[0.36397058, 0.3247549 , 0.27769607],\n",
       "         [0.3781863 , 0.33553922, 0.28799018],\n",
       "         [0.4019608 , 0.34901962, 0.29705882],\n",
       "         ...,\n",
       "         [0.58455884, 0.5272059 , 0.44632354],\n",
       "         [0.5651961 , 0.5137255 , 0.4387255 ],\n",
       "         [0.5495098 , 0.5063726 , 0.43382353]],\n",
       "\n",
       "        [[0.36887255, 0.32377452, 0.2767157 ],\n",
       "         [0.38333333, 0.3348039 , 0.28210783],\n",
       "         [0.40465686, 0.35318628, 0.29313725],\n",
       "         ...,\n",
       "         [0.60588235, 0.5448529 , 0.45808825],\n",
       "         [0.5921569 , 0.5392157 , 0.4627451 ],\n",
       "         [0.57058823, 0.52156866, 0.44607842]],\n",
       "\n",
       "        [[0.3627451 , 0.3156863 , 0.26862746],\n",
       "         [0.3735294 , 0.3254902 , 0.26862746],\n",
       "         [0.3990196 , 0.3480392 , 0.28455883],\n",
       "         ...,\n",
       "         [0.62083334, 0.5590686 , 0.47083333],\n",
       "         [0.6166667 , 0.56666666, 0.48137254],\n",
       "         [0.6       , 0.54901963, 0.4745098 ]]],\n",
       "\n",
       "\n",
       "       ...,\n",
       "\n",
       "\n",
       "       [[[0.6666667 , 0.59607846, 0.5019608 ],\n",
       "         [0.6627451 , 0.5921569 , 0.49803922],\n",
       "         [0.6627451 , 0.5921569 , 0.49803922],\n",
       "         ...,\n",
       "         [0.54509807, 0.4745098 , 0.38039216],\n",
       "         [0.5421569 , 0.4715686 , 0.37745097],\n",
       "         [0.5411765 , 0.47058824, 0.3764706 ]],\n",
       "\n",
       "        [[0.6666667 , 0.59607846, 0.5019608 ],\n",
       "         [0.6666667 , 0.59607846, 0.5019608 ],\n",
       "         [0.6666667 , 0.59607846, 0.5019608 ],\n",
       "         ...,\n",
       "         [0.5482843 , 0.4776961 , 0.38357842],\n",
       "         [0.54509807, 0.4745098 , 0.38039216],\n",
       "         [0.54093134, 0.47034314, 0.3762255 ]],\n",
       "\n",
       "        [[0.6666667 , 0.59607846, 0.5019608 ],\n",
       "         [0.66887254, 0.5982843 , 0.50416666],\n",
       "         [0.6666667 , 0.59607846, 0.5019608 ],\n",
       "         ...,\n",
       "         [0.55196077, 0.48137254, 0.3872549 ],\n",
       "         [0.54583335, 0.4752451 , 0.38112745],\n",
       "         [0.5441176 , 0.4735294 , 0.37941176]],\n",
       "\n",
       "        ...,\n",
       "\n",
       "        [[0.5441176 , 0.47745097, 0.40882352],\n",
       "         [0.5411765 , 0.4745098 , 0.40539217],\n",
       "         [0.5411765 , 0.4745098 , 0.40392157],\n",
       "         ...,\n",
       "         [0.47843137, 0.41568628, 0.3529412 ],\n",
       "         [0.48137254, 0.41862744, 0.35588235],\n",
       "         [0.47843137, 0.41568628, 0.3529412 ]],\n",
       "\n",
       "        [[0.5411765 , 0.4745098 , 0.4117647 ],\n",
       "         [0.5411765 , 0.4745098 , 0.41127452],\n",
       "         [0.5411765 , 0.4745098 , 0.40980393],\n",
       "         ...,\n",
       "         [0.46764705, 0.40490195, 0.34436274],\n",
       "         [0.46764705, 0.40490195, 0.34215686],\n",
       "         [0.4715686 , 0.40882352, 0.34607843]],\n",
       "\n",
       "        [[0.5382353 , 0.4715686 , 0.40882352],\n",
       "         [0.5372549 , 0.47058824, 0.40784314],\n",
       "         [0.5372549 , 0.47058824, 0.40784314],\n",
       "         ...,\n",
       "         [0.45784312, 0.39509803, 0.33529413],\n",
       "         [0.46004903, 0.3973039 , 0.3345588 ],\n",
       "         [0.45784312, 0.39509803, 0.33235294]]],\n",
       "\n",
       "\n",
       "       [[[0.5990196 , 0.51666665, 0.4343137 ],\n",
       "         [0.60294116, 0.5245098 , 0.43039215],\n",
       "         [0.6       , 0.52156866, 0.4245098 ],\n",
       "         ...,\n",
       "         [0.44240198, 0.3718137 , 0.2855392 ],\n",
       "         [0.44019607, 0.36960784, 0.28333333],\n",
       "         [0.44117647, 0.37058824, 0.28431374]],\n",
       "\n",
       "        [[0.6002451 , 0.51691175, 0.4345588 ],\n",
       "         [0.60490197, 0.5245098 , 0.43284315],\n",
       "         [0.6041667 , 0.5237745 , 0.42843136],\n",
       "         ...,\n",
       "         [0.43504903, 0.3644608 , 0.28014705],\n",
       "         [0.43504903, 0.3644608 , 0.28014705],\n",
       "         [0.43529412, 0.3647059 , 0.28039217]],\n",
       "\n",
       "        [[0.6039216 , 0.5176471 , 0.43529412],\n",
       "         [0.60784316, 0.52156866, 0.4387255 ],\n",
       "         [0.60490197, 0.51862746, 0.42990196],\n",
       "         ...,\n",
       "         [0.43137255, 0.36078432, 0.28235295],\n",
       "         [0.43063724, 0.360049  , 0.28161764],\n",
       "         [0.43137255, 0.36078432, 0.28235295]],\n",
       "\n",
       "        ...,\n",
       "\n",
       "        [[0.35514706, 0.33063725, 0.26789215],\n",
       "         [0.36813724, 0.34362745, 0.27892157],\n",
       "         [0.40441176, 0.3759804 , 0.30441177],\n",
       "         ...,\n",
       "         [0.47107843, 0.4240196 , 0.3377451 ],\n",
       "         [0.44583333, 0.3987745 , 0.3125    ],\n",
       "         [0.4245098 , 0.37745097, 0.29117647]],\n",
       "\n",
       "        [[0.40269607, 0.36960784, 0.29705882],\n",
       "         [0.4764706 , 0.4362745 , 0.35882354],\n",
       "         [0.535049  , 0.49485293, 0.41740197],\n",
       "         ...,\n",
       "         [0.51642156, 0.47230393, 0.38602942],\n",
       "         [0.514951  , 0.47083333, 0.38455883],\n",
       "         [0.5115196 , 0.46740195, 0.38112745]],\n",
       "\n",
       "        [[0.54534316, 0.49436274, 0.41985294],\n",
       "         [0.56740195, 0.5242647 , 0.44387254],\n",
       "         [0.5764706 , 0.53039217, 0.44411764],\n",
       "         ...,\n",
       "         [0.527451  , 0.48431373, 0.39803922],\n",
       "         [0.5245098 , 0.48137254, 0.39509803],\n",
       "         [0.5156863 , 0.47254902, 0.38627452]]],\n",
       "\n",
       "\n",
       "       [[[0.5764706 , 0.5176471 , 0.40392157],\n",
       "         [0.5764706 , 0.51666665, 0.40588236],\n",
       "         [0.57867646, 0.51593137, 0.4139706 ],\n",
       "         ...,\n",
       "         [0.24387255, 0.20857844, 0.1732843 ],\n",
       "         [0.24313726, 0.20784314, 0.17254902],\n",
       "         [0.23921569, 0.21176471, 0.17254902]],\n",
       "\n",
       "        [[0.5803922 , 0.52156866, 0.40784314],\n",
       "         [0.5781863 , 0.5183824 , 0.40759805],\n",
       "         [0.5803922 , 0.5176471 , 0.41568628],\n",
       "         ...,\n",
       "         [0.24093138, 0.20563726, 0.17034313],\n",
       "         [0.24093138, 0.20563726, 0.17034313],\n",
       "         [0.23627451, 0.20882353, 0.16960785]],\n",
       "\n",
       "        [[0.5862745 , 0.52156866, 0.4107843 ],\n",
       "         [0.5803922 , 0.5205882 , 0.40980393],\n",
       "         [0.5833333 , 0.5205882 , 0.41862744],\n",
       "         ...,\n",
       "         [0.24607843, 0.21078432, 0.1754902 ],\n",
       "         [0.24313726, 0.20784314, 0.17254902],\n",
       "         [0.23627451, 0.20882353, 0.16960785]],\n",
       "\n",
       "        ...,\n",
       "\n",
       "        [[0.36764705, 0.32058823, 0.26568627],\n",
       "         [0.3752451 , 0.3272059 , 0.26593137],\n",
       "         [0.38333333, 0.33235294, 0.26666668],\n",
       "         ...,\n",
       "         [0.6       , 0.5529412 , 0.49215686],\n",
       "         [0.5879902 , 0.54093134, 0.48014706],\n",
       "         [0.5732843 , 0.5269608 , 0.4627451 ]],\n",
       "\n",
       "        [[0.3745098 , 0.327451  , 0.2784314 ],\n",
       "         [0.37843138, 0.33039215, 0.2735294 ],\n",
       "         [0.38333333, 0.33235294, 0.26887256],\n",
       "         ...,\n",
       "         [0.6068627 , 0.5598039 , 0.50686276],\n",
       "         [0.60539216, 0.55833334, 0.50980395],\n",
       "         [0.59411764, 0.5470588 , 0.49166667]],\n",
       "\n",
       "        [[0.3745098 , 0.327451  , 0.28039217],\n",
       "         [0.37941176, 0.33039215, 0.2764706 ],\n",
       "         [0.3852941 , 0.33333334, 0.2735294 ],\n",
       "         ...,\n",
       "         [0.6068627 , 0.57230395, 0.5061275 ],\n",
       "         [0.6066176 , 0.5713235 , 0.5125    ],\n",
       "         [0.6127451 , 0.577451  , 0.5151961 ]]]], dtype=float32)"
      ]
     },
     "execution_count": 50,
     "metadata": {},
     "output_type": "execute_result"
    }
   ],
   "source": [
    "batch_1[0]"
   ]
  },
  {
   "cell_type": "code",
   "execution_count": 51,
   "metadata": {
    "executionInfo": {
     "elapsed": 6,
     "status": "ok",
     "timestamp": 1664284492768,
     "user": {
      "displayName": "Hoàng Anh Đào",
      "userId": "06015616872620178768"
     },
     "user_tz": 240
    },
    "id": "L9Lr-NbQqpJd"
   },
   "outputs": [],
   "source": [
    "@tf.function\n",
    "def train_step(batch):\n",
    "\n",
    "  # Record all of operations\n",
    "  with tf.GradientTape() as tape:\n",
    "    # Get anchor and positive/negative\n",
    "    X = batch[:2]\n",
    "    # get label\n",
    "    y = batch[2]\n",
    "\n",
    "    # Forward pass\n",
    "    yhat = siamese_model(X, training = True)\n",
    "\n",
    "    # Calculate loss\n",
    "    loss = binary_cross_loss(y, yhat)\n",
    "# Calculate gradients\n",
    "  grad = tape.gradient(loss, siamese_model.trainable_variables)\n",
    "\n",
    "# Calculate updated weights and apply to siamese model\n",
    "  opt.apply_gradients(zip(grad, siamese_model.trainable_variables))\n",
    "\n",
    "  return loss"
   ]
  },
  {
   "cell_type": "markdown",
   "metadata": {
    "id": "8GQfNGf4uwIa"
   },
   "source": [
    "## 5.4 Build Training Loop"
   ]
  },
  {
   "cell_type": "code",
   "execution_count": 52,
   "metadata": {
    "executionInfo": {
     "elapsed": 5,
     "status": "ok",
     "timestamp": 1664284492768,
     "user": {
      "displayName": "Hoàng Anh Đào",
      "userId": "06015616872620178768"
     },
     "user_tz": 240
    },
    "id": "70J2uASFuyob"
   },
   "outputs": [],
   "source": [
    "def train(data, EPOCHS):\n",
    "  # Loop through epochs\n",
    "  for epoch in range(1, EPOCHS + 1):\n",
    "    print(\"\\n Epoch {}/{}\".format(epoch, EPOCHS))\n",
    "    progbar = tf.keras.utils.Progbar(len(data))\n",
    "\n",
    "  # Loop through batch\n",
    "    for idx, batch in enumerate(data):\n",
    "    # Run train step here\n",
    "      train_step(batch)\n",
    "      progbar.update(idx + 1)\n",
    "    \n",
    "    # Save checkpoints\n",
    "    if epoch % 10 == 0:\n",
    "      checkpoint.save(file_prefix = checkpoint_prefix)\n"
   ]
  },
  {
   "cell_type": "markdown",
   "metadata": {
    "id": "CDRDKgGgv9RJ"
   },
   "source": [
    "## 5.5 Train the model"
   ]
  },
  {
   "cell_type": "code",
   "execution_count": 53,
   "metadata": {
    "executionInfo": {
     "elapsed": 6,
     "status": "ok",
     "timestamp": 1664284492769,
     "user": {
      "displayName": "Hoàng Anh Đào",
      "userId": "06015616872620178768"
     },
     "user_tz": 240
    },
    "id": "Wx2rNMoIv_AG"
   },
   "outputs": [],
   "source": [
    "EPOCHS = 50"
   ]
  },
  {
   "cell_type": "code",
   "execution_count": 54,
   "metadata": {
    "colab": {
     "base_uri": "https://localhost:8080/"
    },
    "executionInfo": {
     "elapsed": 121633,
     "status": "ok",
     "timestamp": 1664284614396,
     "user": {
      "displayName": "Hoàng Anh Đào",
      "userId": "06015616872620178768"
     },
     "user_tz": 240
    },
    "id": "13xpJotSwDF8",
    "outputId": "b585e2b1-fc79-4110-d380-a0b7f717c134"
   },
   "outputs": [
    {
     "name": "stdout",
     "output_type": "stream",
     "text": [
      "\n",
      " Epoch 1/50\n",
      "21/21 [==============================] - 15s 114ms/step\n",
      "\n",
      " Epoch 2/50\n",
      "21/21 [==============================] - 2s 89ms/step\n",
      "\n",
      " Epoch 3/50\n",
      "21/21 [==============================] - 2s 89ms/step\n",
      "\n",
      " Epoch 4/50\n",
      "21/21 [==============================] - 2s 90ms/step\n",
      "\n",
      " Epoch 5/50\n",
      "21/21 [==============================] - 2s 90ms/step\n",
      "\n",
      " Epoch 6/50\n",
      "21/21 [==============================] - 2s 90ms/step\n",
      "\n",
      " Epoch 7/50\n",
      "21/21 [==============================] - 2s 91ms/step\n",
      "\n",
      " Epoch 8/50\n",
      "21/21 [==============================] - 2s 91ms/step\n",
      "\n",
      " Epoch 9/50\n",
      "21/21 [==============================] - 2s 90ms/step\n",
      "\n",
      " Epoch 10/50\n",
      "21/21 [==============================] - 2s 93ms/step\n",
      "\n",
      " Epoch 11/50\n",
      "21/21 [==============================] - 2s 97ms/step\n",
      "\n",
      " Epoch 12/50\n",
      "21/21 [==============================] - 2s 92ms/step\n",
      "\n",
      " Epoch 13/50\n",
      "21/21 [==============================] - 2s 92ms/step\n",
      "\n",
      " Epoch 14/50\n",
      "21/21 [==============================] - 2s 94ms/step\n",
      "\n",
      " Epoch 15/50\n",
      "21/21 [==============================] - 2s 95ms/step\n",
      "\n",
      " Epoch 16/50\n",
      "21/21 [==============================] - 2s 94ms/step\n",
      "\n",
      " Epoch 17/50\n",
      "21/21 [==============================] - 2s 94ms/step\n",
      "\n",
      " Epoch 18/50\n",
      "21/21 [==============================] - 2s 93ms/step\n",
      "\n",
      " Epoch 19/50\n",
      "21/21 [==============================] - 2s 93ms/step\n",
      "\n",
      " Epoch 20/50\n",
      "21/21 [==============================] - 2s 94ms/step\n",
      "\n",
      " Epoch 21/50\n",
      "21/21 [==============================] - 2s 97ms/step\n",
      "\n",
      " Epoch 22/50\n",
      "21/21 [==============================] - 2s 93ms/step\n",
      "\n",
      " Epoch 23/50\n",
      "21/21 [==============================] - 2s 94ms/step\n",
      "\n",
      " Epoch 24/50\n",
      "21/21 [==============================] - 2s 95ms/step\n",
      "\n",
      " Epoch 25/50\n",
      "21/21 [==============================] - 2s 93ms/step\n",
      "\n",
      " Epoch 26/50\n",
      "21/21 [==============================] - 2s 93ms/step\n",
      "\n",
      " Epoch 27/50\n",
      "21/21 [==============================] - 2s 96ms/step\n",
      "\n",
      " Epoch 28/50\n",
      "21/21 [==============================] - 2s 94ms/step\n",
      "\n",
      " Epoch 29/50\n",
      "21/21 [==============================] - 2s 95ms/step\n",
      "\n",
      " Epoch 30/50\n",
      "21/21 [==============================] - 2s 92ms/step\n",
      "\n",
      " Epoch 31/50\n",
      "21/21 [==============================] - 2s 97ms/step\n",
      "\n",
      " Epoch 32/50\n",
      "21/21 [==============================] - 2s 93ms/step\n",
      "\n",
      " Epoch 33/50\n",
      "21/21 [==============================] - 2s 92ms/step\n",
      "\n",
      " Epoch 34/50\n",
      "21/21 [==============================] - 2s 91ms/step\n",
      "\n",
      " Epoch 35/50\n",
      "21/21 [==============================] - 2s 92ms/step\n",
      "\n",
      " Epoch 36/50\n",
      "21/21 [==============================] - 2s 92ms/step\n",
      "\n",
      " Epoch 37/50\n",
      "21/21 [==============================] - 2s 92ms/step\n",
      "\n",
      " Epoch 38/50\n",
      "21/21 [==============================] - 2s 91ms/step\n",
      "\n",
      " Epoch 39/50\n",
      "21/21 [==============================] - 2s 92ms/step\n",
      "\n",
      " Epoch 40/50\n",
      "21/21 [==============================] - 2s 91ms/step\n",
      "\n",
      " Epoch 41/50\n",
      "21/21 [==============================] - 2s 97ms/step\n",
      "\n",
      " Epoch 42/50\n",
      "21/21 [==============================] - 2s 92ms/step\n",
      "\n",
      " Epoch 43/50\n",
      "21/21 [==============================] - 2s 92ms/step\n",
      "\n",
      " Epoch 44/50\n",
      "21/21 [==============================] - 2s 93ms/step\n",
      "\n",
      " Epoch 45/50\n",
      "21/21 [==============================] - 2s 91ms/step\n",
      "\n",
      " Epoch 46/50\n",
      "21/21 [==============================] - 2s 92ms/step\n",
      "\n",
      " Epoch 47/50\n",
      "21/21 [==============================] - 2s 93ms/step\n",
      "\n",
      " Epoch 48/50\n",
      "21/21 [==============================] - 2s 91ms/step\n",
      "\n",
      " Epoch 49/50\n",
      "21/21 [==============================] - 2s 92ms/step\n",
      "\n",
      " Epoch 50/50\n",
      "21/21 [==============================] - 2s 94ms/step\n"
     ]
    }
   ],
   "source": [
    "train(train_data, EPOCHS)"
   ]
  },
  {
   "cell_type": "markdown",
   "metadata": {
    "id": "YrWzQhNUnIjI"
   },
   "source": [
    "# 6. Evaluate model"
   ]
  },
  {
   "cell_type": "markdown",
   "metadata": {
    "id": "b-vRf5j7qlmy"
   },
   "source": [
    "## 6.1 Import metrics"
   ]
  },
  {
   "cell_type": "code",
   "execution_count": 55,
   "metadata": {
    "executionInfo": {
     "elapsed": 4,
     "status": "ok",
     "timestamp": 1664284614397,
     "user": {
      "displayName": "Hoàng Anh Đào",
      "userId": "06015616872620178768"
     },
     "user_tz": 240
    },
    "id": "6d1JPPqgnIAe"
   },
   "outputs": [],
   "source": [
    "# Import metric calculation\n",
    "from tensorflow.keras.metrics import Precision, Recall"
   ]
  },
  {
   "cell_type": "markdown",
   "metadata": {
    "id": "9Hae05rAqoiC"
   },
   "source": [
    "## 6.2 Make predictions"
   ]
  },
  {
   "cell_type": "code",
   "execution_count": 56,
   "metadata": {
    "executionInfo": {
     "elapsed": 3,
     "status": "ok",
     "timestamp": 1664284614397,
     "user": {
      "displayName": "Hoàng Anh Đào",
      "userId": "06015616872620178768"
     },
     "user_tz": 240
    },
    "id": "BGgh44ubnc6j"
   },
   "outputs": [],
   "source": [
    "test_input, test_val, y_true = test_data.as_numpy_iterator().next()"
   ]
  },
  {
   "cell_type": "code",
   "execution_count": 57,
   "metadata": {
    "colab": {
     "base_uri": "https://localhost:8080/"
    },
    "executionInfo": {
     "elapsed": 294,
     "status": "ok",
     "timestamp": 1664284614688,
     "user": {
      "displayName": "Hoàng Anh Đào",
      "userId": "06015616872620178768"
     },
     "user_tz": 240
    },
    "id": "7vMKu1rBoLPn",
    "outputId": "d4e55689-b322-423a-8681-3e2cb235efed"
   },
   "outputs": [
    {
     "data": {
      "text/plain": [
       "array([[1.1860450e-06],\n",
       "       [1.0000000e+00],\n",
       "       [9.3370403e-08],\n",
       "       [1.9463805e-06],\n",
       "       [5.6608642e-06],\n",
       "       [9.9996257e-01],\n",
       "       [5.0482161e-09],\n",
       "       [9.9999535e-01],\n",
       "       [9.9963820e-01],\n",
       "       [5.5062519e-09],\n",
       "       [9.9946004e-01],\n",
       "       [9.3175387e-09],\n",
       "       [1.1686755e-06],\n",
       "       [2.7143417e-06],\n",
       "       [1.1709281e-08],\n",
       "       [9.9984014e-01]], dtype=float32)"
      ]
     },
     "execution_count": 57,
     "metadata": {},
     "output_type": "execute_result"
    }
   ],
   "source": [
    "# Make prediction\n",
    "y_hat = siamese_model.predict([test_input, test_val])\n",
    "y_hat"
   ]
  },
  {
   "cell_type": "code",
   "execution_count": 58,
   "metadata": {
    "colab": {
     "base_uri": "https://localhost:8080/"
    },
    "executionInfo": {
     "elapsed": 3,
     "status": "ok",
     "timestamp": 1664284614688,
     "user": {
      "displayName": "Hoàng Anh Đào",
      "userId": "06015616872620178768"
     },
     "user_tz": 240
    },
    "id": "9LUTanvBoMGX",
    "outputId": "ee5a17c4-8742-4c7e-8ca6-78d4817fc777"
   },
   "outputs": [
    {
     "data": {
      "text/plain": [
       "[0, 1, 0, 0, 0, 1, 0, 1, 1, 0, 1, 0, 0, 0, 0, 1]"
      ]
     },
     "execution_count": 58,
     "metadata": {},
     "output_type": "execute_result"
    }
   ],
   "source": [
    "# Post processing the results\n",
    "[1 if prediction > 0.5 else 0 for prediction in y_hat]"
   ]
  },
  {
   "cell_type": "code",
   "execution_count": 59,
   "metadata": {
    "colab": {
     "base_uri": "https://localhost:8080/"
    },
    "executionInfo": {
     "elapsed": 3,
     "status": "ok",
     "timestamp": 1664284614689,
     "user": {
      "displayName": "Hoàng Anh Đào",
      "userId": "06015616872620178768"
     },
     "user_tz": 240
    },
    "id": "WkixWhYEqT9k",
    "outputId": "fab55d12-1da2-43f2-96d1-932a611ba583"
   },
   "outputs": [
    {
     "data": {
      "text/plain": [
       "array([0., 1., 0., 0., 0., 1., 0., 1., 1., 0., 1., 0., 0., 0., 0., 1.],\n",
       "      dtype=float32)"
      ]
     },
     "execution_count": 59,
     "metadata": {},
     "output_type": "execute_result"
    }
   ],
   "source": [
    "y_true"
   ]
  },
  {
   "cell_type": "markdown",
   "metadata": {
    "id": "sofLJ9NmqvW_"
   },
   "source": [
    "## 6.3 Calculate metrics"
   ]
  },
  {
   "cell_type": "code",
   "execution_count": 60,
   "metadata": {
    "colab": {
     "base_uri": "https://localhost:8080/"
    },
    "executionInfo": {
     "elapsed": 403,
     "status": "ok",
     "timestamp": 1664284615090,
     "user": {
      "displayName": "Hoàng Anh Đào",
      "userId": "06015616872620178768"
     },
     "user_tz": 240
    },
    "id": "1spVgZ1Ie5I6",
    "outputId": "ea18295c-38d5-4316-80cf-7c226e954637"
   },
   "outputs": [
    {
     "data": {
      "text/plain": [
       "1.0"
      ]
     },
     "execution_count": 60,
     "metadata": {},
     "output_type": "execute_result"
    }
   ],
   "source": [
    "m = Precision()\n",
    "m.update_state(y_true, y_hat)\n",
    "\n",
    "# Return recall result\n",
    "m.result().numpy()"
   ]
  },
  {
   "cell_type": "code",
   "execution_count": 61,
   "metadata": {
    "colab": {
     "base_uri": "https://localhost:8080/"
    },
    "executionInfo": {
     "elapsed": 3,
     "status": "ok",
     "timestamp": 1664284615090,
     "user": {
      "displayName": "Hoàng Anh Đào",
      "userId": "06015616872620178768"
     },
     "user_tz": 240
    },
    "id": "jHycp80DpzON",
    "outputId": "59c0e8b1-e4fa-4f6f-d86f-7e034fa2d2b7"
   },
   "outputs": [
    {
     "data": {
      "text/plain": [
       "1.0"
      ]
     },
     "execution_count": 61,
     "metadata": {},
     "output_type": "execute_result"
    }
   ],
   "source": [
    "m = Recall()\n",
    "m.update_state(y_true, y_hat)\n",
    "\n",
    "# Return recall result\n",
    "m.result().numpy()"
   ]
  },
  {
   "cell_type": "markdown",
   "metadata": {
    "id": "IF35t3q8qzbe"
   },
   "source": [
    "## 6.4 Visualize the results"
   ]
  },
  {
   "cell_type": "markdown",
   "metadata": {
    "id": "iMJGffC8qh6k"
   },
   "source": [
    "# 7. Save the model"
   ]
  },
  {
   "cell_type": "code",
   "execution_count": 62,
   "metadata": {
    "colab": {
     "base_uri": "https://localhost:8080/",
     "height": 506
    },
    "executionInfo": {
     "elapsed": 205,
     "status": "ok",
     "timestamp": 1664284616813,
     "user": {
      "displayName": "Hoàng Anh Đào",
      "userId": "06015616872620178768"
     },
     "user_tz": 240
    },
    "id": "dI_rzsVfp620",
    "outputId": "2c173d69-1793-42bb-d0c0-6a551083fd39"
   },
   "outputs": [
    {
     "data": {
      "image/png": "[encoded data removed]",
      "text/plain": [
       "<Figure size 1296x1296 with 2 Axes>"
      ]
     },
     "metadata": {
      "needs_background": "light"
     },
     "output_type": "display_data"
    }
   ],
   "source": [
    "\n",
    "plt.figure(figsize = (18, 18))\n",
    "plt.subplot(1, 2, 1)\n",
    "plt.imshow(test_input[1])\n",
    "plt.subplot(1, 2, 2)\n",
    "plt.imshow(test_val[1])\n",
    "plt.show()"
   ]
  },
  {
   "cell_type": "markdown",
   "metadata": {
    "id": "Vht5EcLisoE_"
   },
   "source": [
    "# 7. Save model"
   ]
  },
  {
   "cell_type": "code",
   "execution_count": 63,
   "metadata": {
    "colab": {
     "base_uri": "https://localhost:8080/"
    },
    "executionInfo": {
     "elapsed": 763,
     "status": "ok",
     "timestamp": 1664284617569,
     "user": {
      "displayName": "Hoàng Anh Đào",
      "userId": "06015616872620178768"
     },
     "user_tz": 240
    },
    "id": "5irSN78erR8I",
    "outputId": "45fa50bd-7b08-4495-e527-3d0a249008b6"
   },
   "outputs": [
    {
     "name": "stderr",
     "output_type": "stream",
     "text": [
      "WARNING:tensorflow:Compiled the loaded model, but the compiled metrics have yet to be built. `model.compile_metrics` will be empty until you train or evaluate the model.\n"
     ]
    }
   ],
   "source": [
    "# Save weights\n",
    "siamese_model.save('siamesemodel.h5')"
   ]
  },
  {
   "cell_type": "code",
   "execution_count": 64,
   "metadata": {
    "colab": {
     "base_uri": "https://localhost:8080/"
    },
    "executionInfo": {
     "elapsed": 941,
     "status": "ok",
     "timestamp": 1664284618508,
     "user": {
      "displayName": "Hoàng Anh Đào",
      "userId": "06015616872620178768"
     },
     "user_tz": 240
    },
    "id": "NW86_jIvs0EE",
    "outputId": "2a3d052d-3bab-44f2-b18a-6966ceec9fe3"
   },
   "outputs": [
    {
     "name": "stderr",
     "output_type": "stream",
     "text": [
      "WARNING:tensorflow:No training configuration found in the save file, so the model was *not* compiled. Compile it manually.\n"
     ]
    }
   ],
   "source": [
    "# Reload model\n",
    "model = tf.keras.models.load_model('siamesemodel.h5',\n",
    "                                  custom_objects = {'L1Dist': L1Dist, 'BinaryCrossEntropy': tf.losses.BinaryCrossentropy})"
   ]
  },
  {
   "cell_type": "code",
   "execution_count": 65,
   "metadata": {
    "colab": {
     "base_uri": "https://localhost:8080/"
    },
    "executionInfo": {
     "elapsed": 10,
     "status": "ok",
     "timestamp": 1664284618508,
     "user": {
      "displayName": "Hoàng Anh Đào",
      "userId": "06015616872620178768"
     },
     "user_tz": 240
    },
    "id": "HG_S6wLwEzXG",
    "outputId": "70e34f40-d38b-4d9a-ba0f-9d73f77e5806"
   },
   "outputs": [
    {
     "name": "stdout",
     "output_type": "stream",
     "text": [
      "Model: \"SiameseNetwork\"\n",
      "__________________________________________________________________________________________________\n",
      " Layer (type)                   Output Shape         Param #     Connected to                     \n",
      "==================================================================================================\n",
      " input_img (InputLayer)         [(None, 100, 100, 3  0           []                               \n",
      "                                )]                                                                \n",
      "                                                                                                  \n",
      " validation_img (InputLayer)    [(None, 100, 100, 3  0           []                               \n",
      "                                )]                                                                \n",
      "                                                                                                  \n",
      " embedding (Functional)         (None, 4096)         38960448    ['input_img[0][0]',              \n",
      "                                                                  'validation_img[0][0]']         \n",
      "                                                                                                  \n",
      " l1_dist_2 (L1Dist)             (None, 4096)         0           ['embedding[0][0]',              \n",
      "                                                                  'embedding[1][0]']              \n",
      "                                                                                                  \n",
      " dense_2 (Dense)                (None, 1)            4097        ['l1_dist_2[0][0]']              \n",
      "                                                                                                  \n",
      "==================================================================================================\n",
      "Total params: 38,964,545\n",
      "Trainable params: 38,964,545\n",
      "Non-trainable params: 0\n",
      "__________________________________________________________________________________________________\n"
     ]
    }
   ],
   "source": [
    "model.summary()"
   ]
  },
  {
   "cell_type": "markdown",
   "metadata": {
    "id": "i35B3lzOelgq"
   },
   "source": [
    "# 8. Real time test"
   ]
  },
  {
   "cell_type": "markdown",
   "metadata": {
    "id": "OqwAcl_3fAtF"
   },
   "source": [
    "## 8.1 Verification Function"
   ]
  },
  {
   "cell_type": "code",
   "execution_count": 68,
   "metadata": {
    "executionInfo": {
     "elapsed": 187,
     "status": "ok",
     "timestamp": 1664286446205,
     "user": {
      "displayName": "Hoàng Anh Đào",
      "userId": "06015616872620178768"
     },
     "user_tz": 240
    },
    "id": "3bbvcReCek-N"
   },
   "outputs": [],
   "source": [
    "def verify(model, detection_threshold, verification_threshold):\n",
    "  # Build results array\n",
    "  results = []\n",
    "  for image in os.listdir(os.path.join(('application_data', 'verification_images'))):\n",
    "    input_img = preprocess(os.path.join('application_data', 'input_image', 'input_image.jpg'))\n",
    "    validation_img = preprocess(os.path.join('application_data', 'verification_images', image))\n",
    "\n",
    "    result = model.predict(list(np.expand_dims([input_img, validation_img], axis = 1)))\n",
    "    results.append(result)\n",
    "  \n",
    "  detection = np.sum(np.array(results) > detection_threshold)\n",
    "  verification = np.sum(np.array() > detection_threshold)\n",
    "  verfication = detection / len(os.listdir(os.path.join('application_data', 'verification_images')))\n",
    "  verified = verification > verification_threshold\n",
    "\n",
    "  return results, verified"
   ]
  },
  {
   "cell_type": "markdown",
   "metadata": {
    "id": "QdB0rckPKrkN"
   },
   "source": [
    "## 8.2 OpenCV Real Time Verification"
   ]
  },
  {
   "cell_type": "code",
   "execution_count": 69,
   "metadata": {
    "executionInfo": {
     "elapsed": 103,
     "status": "ok",
     "timestamp": 1664286489874,
     "user": {
      "displayName": "Hoàng Anh Đào",
      "userId": "06015616872620178768"
     },
     "user_tz": 240
    },
    "id": "wOs_86_cKqln"
   },
   "outputs": [],
   "source": [
    "cap = cv2.VideoCapture(0)\n",
    "\n",
    "while cap.isOpened():\n",
    "    ret, frame = cap.read()\n",
    "    frame = frame[420:670, 970:1220, :]\n",
    "    \n",
    "    #Show image back to screen\n",
    "    \n",
    "    cv2.imshow('Image collection', frame)\n",
    "\n",
    "    # Verification trigger\n",
    "    if cv2.waitKey(10) & 0xFF == ord('v'):\n",
    "      #Save input imahe to application input_image folder\n",
    "      cv2.imwrite(os.path.join('application_data', 'input_image', 'input_image.jpg'), frame)\n",
    "\n",
    "      # Run verification\n",
    "      results, verified = verify(model, 0.5, 0.5)\n",
    "\n",
    "    if cv2.waitKey(10) & 0xFF == ord('q'):\n",
    "      break\n",
    "cap.release()\n",
    "cv2.destroyAllWindows()"
   ]
  },
  {
   "cell_type": "code",
   "execution_count": null,
   "metadata": {
    "id": "L1KVDvtxNHvB"
   },
   "outputs": [],
   "source": []
  }
 ],
 "metadata": {
  "accelerator": "GPU",
  "colab": {
   "authorship_tag": "ABX9TyP12QjQHviboxvQNMxeJ8QL",
   "collapsed_sections": [],
   "mount_file_id": "1I-gwE0BP_oLOce3rsCtQDC8UP4v-sHHh",
   "provenance": []
  },
  "gpuClass": "standard",
  "kernelspec": {
   "display_name": "Python 3 (ipykernel)",
   "language": "python",
   "name": "python3"
  },
  "language_info": {
   "codemirror_mode": {
    "name": "ipython",
    "version": 3
   },
   "file_extension": ".py",
   "mimetype": "text/x-python",
   "name": "python",
   "nbconvert_exporter": "python",
   "pygments_lexer": "ipython3",
   "version": "3.10.5"
  }
 },
 "nbformat": 4,
 "nbformat_minor": 1
}
